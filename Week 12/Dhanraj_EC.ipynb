{
  "nbformat": 4,
  "nbformat_minor": 0,
  "metadata": {
    "colab": {
      "provenance": []
    },
    "kernelspec": {
      "name": "python3",
      "display_name": "Python 3"
    },
    "language_info": {
      "name": "python"
    }
  },
  "cells": [
    {
      "cell_type": "code",
      "execution_count": 2,
      "metadata": {
        "id": "bULZqlg1WS2d"
      },
      "outputs": [],
      "source": [
        "import pandas as pd\n",
        "import numpy as np\n",
        "from sklearn.model_selection import train_test_split\n",
        "from sklearn.preprocessing import StandardScaler\n",
        "import tensorflow as tf\n",
        "from tensorflow.keras.models import Sequential\n",
        "from tensorflow.keras.layers import Dense"
      ]
    },
    {
      "cell_type": "code",
      "source": [
        "diabetes_df = pd.read_csv(\"/content/diabetes_dataset_with_notes.csv\")\n",
        "\n",
        "# Drop non-numeric or unprocessed columns\n",
        "diabetes_df = diabetes_df.drop(columns=['clinical_notes', 'location'])\n",
        "\n",
        "# One-hot encode 'gender' and 'smoking_history'\n",
        "diabetes_df = pd.get_dummies(diabetes_df, columns=['gender', 'smoking_history'], drop_first=True)\n",
        "\n",
        "# Features and target\n",
        "X = diabetes_df.drop(columns=['diabetes'])\n",
        "y = diabetes_df['diabetes']\n",
        "\n",
        "# Train-test split\n",
        "X_train, X_test, y_train, y_test = train_test_split(X, y, test_size=0.2, random_state=42)\n",
        "\n",
        "# Feature scaling\n",
        "scaler = StandardScaler()\n",
        "X_train = scaler.fit_transform(X_train)\n",
        "X_test = scaler.transform(X_test)\n",
        "\n",
        "# Build neural network\n",
        "model = Sequential([\n",
        "    Dense(32, activation='relu', input_shape=(X_train.shape[1],)),\n",
        "    Dense(16, activation='relu'),\n",
        "    Dense(1, activation='sigmoid')\n",
        "])\n",
        "\n",
        "# Compile model\n",
        "model.compile(optimizer='adam', loss='binary_crossentropy', metrics=['accuracy'])\n",
        "\n",
        "# Train model\n",
        "model.fit(X_train, y_train, epochs=20, batch_size=32, validation_split=0.1)\n",
        "\n",
        "# Evaluate on test set\n",
        "loss, accuracy = model.evaluate(X_test, y_test)\n",
        "print(f\"Test Accuracy: {accuracy:.2f}\")"
      ],
      "metadata": {
        "colab": {
          "base_uri": "https://localhost:8080/"
        },
        "id": "Ta9_eH1bXl0Y",
        "outputId": "948f4b4b-0481-4033-d79e-ecfe73c1d8b7"
      },
      "execution_count": 3,
      "outputs": [
        {
          "output_type": "stream",
          "name": "stderr",
          "text": [
            "/usr/local/lib/python3.11/dist-packages/keras/src/layers/core/dense.py:87: UserWarning: Do not pass an `input_shape`/`input_dim` argument to a layer. When using Sequential models, prefer using an `Input(shape)` object as the first layer in the model instead.\n",
            "  super().__init__(activity_regularizer=activity_regularizer, **kwargs)\n"
          ]
        },
        {
          "output_type": "stream",
          "name": "stdout",
          "text": [
            "Epoch 1/20\n",
            "\u001b[1m2250/2250\u001b[0m \u001b[32m━━━━━━━━━━━━━━━━━━━━\u001b[0m\u001b[37m\u001b[0m \u001b[1m14s\u001b[0m 4ms/step - accuracy: 0.9211 - loss: 0.2084 - val_accuracy: 0.9595 - val_loss: 0.1129\n",
            "Epoch 2/20\n",
            "\u001b[1m2250/2250\u001b[0m \u001b[32m━━━━━━━━━━━━━━━━━━━━\u001b[0m\u001b[37m\u001b[0m \u001b[1m8s\u001b[0m 3ms/step - accuracy: 0.9608 - loss: 0.1123 - val_accuracy: 0.9638 - val_loss: 0.1091\n",
            "Epoch 3/20\n",
            "\u001b[1m2250/2250\u001b[0m \u001b[32m━━━━━━━━━━━━━━━━━━━━\u001b[0m\u001b[37m\u001b[0m \u001b[1m5s\u001b[0m 2ms/step - accuracy: 0.9631 - loss: 0.1088 - val_accuracy: 0.9661 - val_loss: 0.1028\n",
            "Epoch 4/20\n",
            "\u001b[1m2250/2250\u001b[0m \u001b[32m━━━━━━━━━━━━━━━━━━━━\u001b[0m\u001b[37m\u001b[0m \u001b[1m6s\u001b[0m 3ms/step - accuracy: 0.9664 - loss: 0.1014 - val_accuracy: 0.9679 - val_loss: 0.0984\n",
            "Epoch 5/20\n",
            "\u001b[1m2250/2250\u001b[0m \u001b[32m━━━━━━━━━━━━━━━━━━━━\u001b[0m\u001b[37m\u001b[0m \u001b[1m10s\u001b[0m 2ms/step - accuracy: 0.9678 - loss: 0.0964 - val_accuracy: 0.9689 - val_loss: 0.0950\n",
            "Epoch 6/20\n",
            "\u001b[1m2250/2250\u001b[0m \u001b[32m━━━━━━━━━━━━━━━━━━━━\u001b[0m\u001b[37m\u001b[0m \u001b[1m10s\u001b[0m 2ms/step - accuracy: 0.9689 - loss: 0.0928 - val_accuracy: 0.9699 - val_loss: 0.0900\n",
            "Epoch 7/20\n",
            "\u001b[1m2250/2250\u001b[0m \u001b[32m━━━━━━━━━━━━━━━━━━━━\u001b[0m\u001b[37m\u001b[0m \u001b[1m10s\u001b[0m 2ms/step - accuracy: 0.9695 - loss: 0.0897 - val_accuracy: 0.9704 - val_loss: 0.0879\n",
            "Epoch 8/20\n",
            "\u001b[1m2250/2250\u001b[0m \u001b[32m━━━━━━━━━━━━━━━━━━━━\u001b[0m\u001b[37m\u001b[0m \u001b[1m6s\u001b[0m 3ms/step - accuracy: 0.9707 - loss: 0.0855 - val_accuracy: 0.9704 - val_loss: 0.0864\n",
            "Epoch 9/20\n",
            "\u001b[1m2250/2250\u001b[0m \u001b[32m━━━━━━━━━━━━━━━━━━━━\u001b[0m\u001b[37m\u001b[0m \u001b[1m5s\u001b[0m 2ms/step - accuracy: 0.9713 - loss: 0.0842 - val_accuracy: 0.9697 - val_loss: 0.0857\n",
            "Epoch 10/20\n",
            "\u001b[1m2250/2250\u001b[0m \u001b[32m━━━━━━━━━━━━━━━━━━━━\u001b[0m\u001b[37m\u001b[0m \u001b[1m5s\u001b[0m 2ms/step - accuracy: 0.9734 - loss: 0.0785 - val_accuracy: 0.9718 - val_loss: 0.0858\n",
            "Epoch 11/20\n",
            "\u001b[1m2250/2250\u001b[0m \u001b[32m━━━━━━━━━━━━━━━━━━━━\u001b[0m\u001b[37m\u001b[0m \u001b[1m6s\u001b[0m 3ms/step - accuracy: 0.9711 - loss: 0.0847 - val_accuracy: 0.9715 - val_loss: 0.0833\n",
            "Epoch 12/20\n",
            "\u001b[1m2250/2250\u001b[0m \u001b[32m━━━━━━━━━━━━━━━━━━━━\u001b[0m\u001b[37m\u001b[0m \u001b[1m5s\u001b[0m 2ms/step - accuracy: 0.9710 - loss: 0.0828 - val_accuracy: 0.9711 - val_loss: 0.0839\n",
            "Epoch 13/20\n",
            "\u001b[1m2250/2250\u001b[0m \u001b[32m━━━━━━━━━━━━━━━━━━━━\u001b[0m\u001b[37m\u001b[0m \u001b[1m6s\u001b[0m 3ms/step - accuracy: 0.9712 - loss: 0.0827 - val_accuracy: 0.9705 - val_loss: 0.0840\n",
            "Epoch 14/20\n",
            "\u001b[1m2250/2250\u001b[0m \u001b[32m━━━━━━━━━━━━━━━━━━━━\u001b[0m\u001b[37m\u001b[0m \u001b[1m5s\u001b[0m 2ms/step - accuracy: 0.9716 - loss: 0.0828 - val_accuracy: 0.9716 - val_loss: 0.0831\n",
            "Epoch 15/20\n",
            "\u001b[1m2250/2250\u001b[0m \u001b[32m━━━━━━━━━━━━━━━━━━━━\u001b[0m\u001b[37m\u001b[0m \u001b[1m6s\u001b[0m 3ms/step - accuracy: 0.9709 - loss: 0.0831 - val_accuracy: 0.9710 - val_loss: 0.0844\n",
            "Epoch 16/20\n",
            "\u001b[1m2250/2250\u001b[0m \u001b[32m━━━━━━━━━━━━━━━━━━━━\u001b[0m\u001b[37m\u001b[0m \u001b[1m9s\u001b[0m 2ms/step - accuracy: 0.9722 - loss: 0.0796 - val_accuracy: 0.9696 - val_loss: 0.0838\n",
            "Epoch 17/20\n",
            "\u001b[1m2250/2250\u001b[0m \u001b[32m━━━━━━━━━━━━━━━━━━━━\u001b[0m\u001b[37m\u001b[0m \u001b[1m6s\u001b[0m 3ms/step - accuracy: 0.9714 - loss: 0.0828 - val_accuracy: 0.9709 - val_loss: 0.0846\n",
            "Epoch 18/20\n",
            "\u001b[1m2250/2250\u001b[0m \u001b[32m━━━━━━━━━━━━━━━━━━━━\u001b[0m\u001b[37m\u001b[0m \u001b[1m5s\u001b[0m 2ms/step - accuracy: 0.9724 - loss: 0.0800 - val_accuracy: 0.9709 - val_loss: 0.0851\n",
            "Epoch 19/20\n",
            "\u001b[1m2250/2250\u001b[0m \u001b[32m━━━━━━━━━━━━━━━━━━━━\u001b[0m\u001b[37m\u001b[0m \u001b[1m6s\u001b[0m 3ms/step - accuracy: 0.9722 - loss: 0.0793 - val_accuracy: 0.9695 - val_loss: 0.0875\n",
            "Epoch 20/20\n",
            "\u001b[1m2250/2250\u001b[0m \u001b[32m━━━━━━━━━━━━━━━━━━━━\u001b[0m\u001b[37m\u001b[0m \u001b[1m9s\u001b[0m 2ms/step - accuracy: 0.9719 - loss: 0.0816 - val_accuracy: 0.9711 - val_loss: 0.0836\n",
            "\u001b[1m625/625\u001b[0m \u001b[32m━━━━━━━━━━━━━━━━━━━━\u001b[0m\u001b[37m\u001b[0m \u001b[1m2s\u001b[0m 2ms/step - accuracy: 0.9724 - loss: 0.0834\n",
            "Test Accuracy: 0.97\n"
          ]
        }
      ]
    }
  ]
}