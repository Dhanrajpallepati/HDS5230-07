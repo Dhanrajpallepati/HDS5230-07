{
 "cells": [
  {
   "cell_type": "code",
   "execution_count": 0,
   "metadata": {
    "application/vnd.databricks.v1+cell": {
     "cellMetadata": {
      "byteLimit": 2048000,
      "rowLimit": 10000
     },
     "inputWidgets": {},
     "nuid": "7a772bfc-bf5c-4726-ae32-fe75a5f953e6",
     "showTitle": false,
     "tableResultSettingsMap": {},
     "title": ""
    }
   },
   "outputs": [
    {
     "output_type": "stream",
     "name": "stderr",
     "output_type": "stream",
     "text": [
      "  % Total    % Received % Xferd  Average Speed   Time    Time     Time  Current\n                                 Dload  Upload   Total   Spent    Left  Speed\n\r  0     0    0     0    0     0      0      0 --:--:-- --:--:-- --:--:--     0\r  2  752M    2 18.1M    0     0  33.6M      0  0:00:22 --:--:--  0:00:22 33.6M\r 24  752M   24  185M    0     0   120M      0  0:00:06  0:00:01  0:00:05  120M\r 53  752M   53  405M    0     0   159M      0  0:00:04  0:00:02  0:00:02  159M\r 85  752M   85  643M    0     0   181M      0  0:00:04  0:00:03  0:00:01  181M\r100  752M  100  752M    0     0   185M      0  0:00:04  0:00:04 --:--:--  185M\n"
     ]
    },
    {
     "output_type": "stream",
     "name": "stdout",
     "output_type": "stream",
     "text": [
      "Archive:  /tmp/openpayments_2023.zip\n  inflating: /tmp/openpayments_2023/OP_PGYR2023_README_P01302025.txt  \n  inflating: /tmp/openpayments_2023/OP_DTL_OWNRSHP_PGYR2023_P01302025_01212025.csv  \n  inflating: /tmp/openpayments_2023/OP_DTL_GNRL_PGYR2023_P01302025_01212025.csv  \n  inflating: /tmp/openpayments_2023/OP_DTL_RSRCH_PGYR2023_P01302025_01212025.csv  \n  inflating: /tmp/openpayments_2023/OP_REMOVED_DELETED_PGYR2023_P01302025_01212025.csv  \n"
     ]
    }
   ],
   "source": [
    "%%sh\n",
    "# Download the CMS Open Payments ZIP file\n",
    "curl -L https://download.cms.gov/openpayments/PGYR2023_P01302025_01212025.zip -o /tmp/openpayments_2023.zip\n",
    "\n",
    "# Unzip the file to a directory\n",
    "unzip /tmp/openpayments_2023.zip -d /tmp/openpayments_2023"
   ]
  },
  {
   "cell_type": "code",
   "execution_count": 0,
   "metadata": {
    "application/vnd.databricks.v1+cell": {
     "cellMetadata": {
      "byteLimit": 2048000,
      "rowLimit": 10000
     },
     "inputWidgets": {},
     "nuid": "44efcc61-f5f2-419f-97fb-5b7b708e045d",
     "showTitle": false,
     "tableResultSettingsMap": {},
     "title": ""
    }
   },
   "outputs": [],
   "source": [
    "# Reading the CSV file into a Spark DataFrame\n",
    "df_1 = spark.read.csv(\"file:/tmp/openpayments_2023/OP_DTL_GNRL_PGYR2023_P01302025_01212025.csv\", header=True, inferSchema=True)\n",
    "\n",
    "# Saving it as a Delta table\n",
    "df_1.write \\\n",
    "    .format(\"delta\") \\\n",
    "    .mode(\"overwrite\") \\\n",
    "    .saveAsTable(\"General_2023_OpenPayments\")"
   ]
  },
  {
   "cell_type": "code",
   "execution_count": 0,
   "metadata": {
    "application/vnd.databricks.v1+cell": {
     "cellMetadata": {
      "byteLimit": 2048000,
      "rowLimit": 10000
     },
     "inputWidgets": {},
     "nuid": "c0cf39c1-c200-482f-aea3-314aca5a2222",
     "showTitle": false,
     "tableResultSettingsMap": {},
     "title": ""
    }
   },
   "outputs": [
    {
     "output_type": "stream",
     "name": "stdout",
     "output_type": "stream",
     "text": [
      "Out[7]: ['Change_Type',\n 'Covered_Recipient_Type',\n 'Teaching_Hospital_CCN',\n 'Teaching_Hospital_ID',\n 'Teaching_Hospital_Name',\n 'Covered_Recipient_Profile_ID',\n 'Covered_Recipient_NPI',\n 'Covered_Recipient_First_Name',\n 'Covered_Recipient_Middle_Name',\n 'Covered_Recipient_Last_Name',\n 'Covered_Recipient_Name_Suffix',\n 'Recipient_Primary_Business_Street_Address_Line1',\n 'Recipient_Primary_Business_Street_Address_Line2',\n 'Recipient_City',\n 'Recipient_State',\n 'Recipient_Zip_Code',\n 'Recipient_Country',\n 'Recipient_Province',\n 'Recipient_Postal_Code',\n 'Covered_Recipient_Primary_Type_1',\n 'Covered_Recipient_Primary_Type_2',\n 'Covered_Recipient_Primary_Type_3',\n 'Covered_Recipient_Primary_Type_4',\n 'Covered_Recipient_Primary_Type_5',\n 'Covered_Recipient_Primary_Type_6',\n 'Covered_Recipient_Specialty_1',\n 'Covered_Recipient_Specialty_2',\n 'Covered_Recipient_Specialty_3',\n 'Covered_Recipient_Specialty_4',\n 'Covered_Recipient_Specialty_5',\n 'Covered_Recipient_Specialty_6',\n 'Covered_Recipient_License_State_code1',\n 'Covered_Recipient_License_State_code2',\n 'Covered_Recipient_License_State_code3',\n 'Covered_Recipient_License_State_code4',\n 'Covered_Recipient_License_State_code5',\n 'Submitting_Applicable_Manufacturer_or_Applicable_GPO_Name',\n 'Applicable_Manufacturer_or_Applicable_GPO_Making_Payment_ID',\n 'Applicable_Manufacturer_or_Applicable_GPO_Making_Payment_Name',\n 'Applicable_Manufacturer_or_Applicable_GPO_Making_Payment_State',\n 'Applicable_Manufacturer_or_Applicable_GPO_Making_Payment_Country',\n 'Total_Amount_of_Payment_USDollars',\n 'Date_of_Payment',\n 'Number_of_Payments_Included_in_Total_Amount',\n 'Form_of_Payment_or_Transfer_of_Value',\n 'Nature_of_Payment_or_Transfer_of_Value',\n 'City_of_Travel',\n 'State_of_Travel',\n 'Country_of_Travel',\n 'Physician_Ownership_Indicator',\n 'Third_Party_Payment_Recipient_Indicator',\n 'Name_of_Third_Party_Entity_Receiving_Payment_or_Transfer_of_Value',\n 'Charity_Indicator',\n 'Third_Party_Equals_Covered_Recipient_Indicator',\n 'Contextual_Information',\n 'Delay_in_Publication_Indicator',\n 'Record_ID',\n 'Dispute_Status_for_Publication',\n 'Related_Product_Indicator',\n 'Covered_or_Noncovered_Indicator_1',\n 'Indicate_Drug_or_Biological_or_Device_or_Medical_Supply_1',\n 'Product_Category_or_Therapeutic_Area_1',\n 'Name_of_Drug_or_Biological_or_Device_or_Medical_Supply_1',\n 'Associated_Drug_or_Biological_NDC_1',\n 'Associated_Device_or_Medical_Supply_PDI_1',\n 'Covered_or_Noncovered_Indicator_2',\n 'Indicate_Drug_or_Biological_or_Device_or_Medical_Supply_2',\n 'Product_Category_or_Therapeutic_Area_2',\n 'Name_of_Drug_or_Biological_or_Device_or_Medical_Supply_2',\n 'Associated_Drug_or_Biological_NDC_2',\n 'Associated_Device_or_Medical_Supply_PDI_2',\n 'Covered_or_Noncovered_Indicator_3',\n 'Indicate_Drug_or_Biological_or_Device_or_Medical_Supply_3',\n 'Product_Category_or_Therapeutic_Area_3',\n 'Name_of_Drug_or_Biological_or_Device_or_Medical_Supply_3',\n 'Associated_Drug_or_Biological_NDC_3',\n 'Associated_Device_or_Medical_Supply_PDI_3',\n 'Covered_or_Noncovered_Indicator_4',\n 'Indicate_Drug_or_Biological_or_Device_or_Medical_Supply_4',\n 'Product_Category_or_Therapeutic_Area_4',\n 'Name_of_Drug_or_Biological_or_Device_or_Medical_Supply_4',\n 'Associated_Drug_or_Biological_NDC_4',\n 'Associated_Device_or_Medical_Supply_PDI_4',\n 'Covered_or_Noncovered_Indicator_5',\n 'Indicate_Drug_or_Biological_or_Device_or_Medical_Supply_5',\n 'Product_Category_or_Therapeutic_Area_5',\n 'Name_of_Drug_or_Biological_or_Device_or_Medical_Supply_5',\n 'Associated_Drug_or_Biological_NDC_5',\n 'Associated_Device_or_Medical_Supply_PDI_5',\n 'Program_Year',\n 'Payment_Publication_Date']"
     ]
    }
   ],
   "source": [
    "df_1.columns"
   ]
  },
  {
   "cell_type": "code",
   "execution_count": 0,
   "metadata": {
    "application/vnd.databricks.v1+cell": {
     "cellMetadata": {
      "byteLimit": 2048000,
      "rowLimit": 10000
     },
     "inputWidgets": {},
     "nuid": "1d5eb873-de22-4362-a12f-01c88a03f54c",
     "showTitle": false,
     "tableResultSettingsMap": {},
     "title": ""
    }
   },
   "outputs": [
    {
     "output_type": "stream",
     "name": "stdout",
     "output_type": "stream",
     "text": [
      "Out[8]: ['Covered_Recipient_Profile_Type',\n 'Covered_Recipient_Profile_ID',\n 'Associated_Covered_Recipient_Profile_ID_1',\n 'Associated_Covered_Recipient_Profile_ID_2',\n 'Covered_Recipient_NPI',\n 'Covered_Recipient_Profile_First_Name',\n 'Covered_Recipient_Profile_Middle_Name',\n 'Covered_Recipient_Profile_Last_Name',\n 'Covered_Recipient_Profile_Suffix',\n 'Covered_Recipient_Profile_Alternate_First_Name',\n 'Covered_Recipient_Profile_Alternate_Middle_Name',\n 'Covered_Recipient_Profile_Alternate_Last_Name',\n 'Covered_Recipient_Profile_Alternate_Suffix',\n 'Covered_Recipient_Profile_Address_Line_1',\n 'Covered_Recipient_Profile_Address_Line_2',\n 'Covered_Recipient_Profile_City',\n 'Covered_Recipient_Profile_State',\n 'Covered_Recipient_Profile_Zipcode',\n 'Covered_Recipient_Profile_Country_Name',\n 'Covered_Recipient_Profile_Province_Name',\n 'Covered_Recipient_Profile_Primary_Specialty',\n 'Covered_Recipient_Profile_OPS_Taxonomy_1',\n 'Covered_Recipient_Profile_OPS_Taxonomy_2',\n 'Covered_Recipient_Profile_OPS_Taxonomy_3',\n 'Covered_Recipient_Profile_OPS_Taxonomy_4',\n 'Covered_Recipient_Profile_OPS_Taxonomy_5',\n 'Covered_Recipient_Profile_OPS_Taxonomy_6',\n 'Covered_Recipient_Profile_License_State_Code_1',\n 'Covered_Recipient_Profile_License_State_Code_2',\n 'Covered_Recipient_Profile_License_State_Code_3',\n 'Covered_Recipient_Profile_License_State_Code_4',\n 'Covered_Recipient_Profile_License_State_Code_5']"
     ]
    }
   ],
   "source": [
    "# File location and type\n",
    "file_location = \"/FileStore/tables/OP_CVRD_RCPNT_PRFL_SPLMTL_P01302025_01212025.csv\"\n",
    "file_type = \"csv\"\n",
    "\n",
    "# CSV options\n",
    "infer_schema = \"false\"\n",
    "first_row_is_header = \"true\"\n",
    "delimiter = \",\"\n",
    "\n",
    "# The applied options are for CSV files. For other file types, these will be ignored.\n",
    "df_2 = spark.read.format(file_type) \\\n",
    "  .option(\"inferSchema\", infer_schema) \\\n",
    "  .option(\"header\", first_row_is_header) \\\n",
    "  .option(\"sep\", delimiter) \\\n",
    "  .load(file_location)\n",
    "\n",
    "df_2.columns"
   ]
  },
  {
   "cell_type": "code",
   "execution_count": 0,
   "metadata": {
    "application/vnd.databricks.v1+cell": {
     "cellMetadata": {
      "byteLimit": 2048000,
      "rowLimit": 10000
     },
     "inputWidgets": {},
     "nuid": "a34fad9b-f3d6-4117-9a26-138e95969ef1",
     "showTitle": false,
     "tableResultSettingsMap": {},
     "title": ""
    }
   },
   "outputs": [],
   "source": [
    "from pyspark.sql.functions import col, desc, count, sum, concat_ws"
   ]
  },
  {
   "cell_type": "code",
   "execution_count": 0,
   "metadata": {
    "application/vnd.databricks.v1+cell": {
     "cellMetadata": {
      "byteLimit": 2048000,
      "rowLimit": 10000
     },
     "inputWidgets": {},
     "nuid": "9656fa0d-b1b4-41bc-ad5b-2edbe4083f9b",
     "showTitle": false,
     "tableResultSettingsMap": {},
     "title": ""
    }
   },
   "outputs": [
    {
     "output_type": "stream",
     "name": "stdout",
     "output_type": "stream",
     "text": [
      "+--------------------------------------------------------------------------------------------------------------------------------------------------+------+--------------+\n|Nature_of_Payment_or_Transfer_of_Value                                                                                                            |count |total_amount  |\n+--------------------------------------------------------------------------------------------------------------------------------------------------+------+--------------+\n|Compensation for services other than consulting, including serving as faculty or as a speaker at a venue other than a continuing education program|164092|5.5829497072E8|\n+--------------------------------------------------------------------------------------------------------------------------------------------------+------+--------------+\n\n"
     ]
    }
   ],
   "source": [
    "analysis1 = df_1.filter(\n",
    "    (col(\"Nature_of_Payment_or_Transfer_of_Value\") == \"Compensation for services other than consulting, including serving as faculty or as a speaker at a venue other than a continuing education program\") & \n",
    "    (col(\"Total_Amount_of_Payment_USDollars\") > 1000)\n",
    ").groupBy(\"Nature_of_Payment_or_Transfer_of_Value\") \\\n",
    " .agg(count(\"*\").alias(\"count\"), sum(\"Total_Amount_of_Payment_USDollars\").alias(\"total_amount\")) \\\n",
    " .orderBy(desc(\"count\"))\n",
    "analysis1.show(truncate=False)"
   ]
  },
  {
   "cell_type": "markdown",
   "metadata": {
    "application/vnd.databricks.v1+cell": {
     "cellMetadata": {},
     "inputWidgets": {},
     "nuid": "e66b0fe9-0dfc-4cbd-981b-762156cb8cf7",
     "showTitle": false,
     "tableResultSettingsMap": {},
     "title": ""
    }
   },
   "source": [
    "The nature of payments with reimbursement amounts above $1,000 shows \"Compensation for services other than consulting, including serving as faculty or as a speaker at a venue other than a continuing education program\" as the most prevalent type with 164,092 occurrences worth approximately $558.3 million which represents substantial financial investment in non-consulting professional services in healthcare."
   ]
  },
  {
   "cell_type": "code",
   "execution_count": 0,
   "metadata": {
    "application/vnd.databricks.v1+cell": {
     "cellMetadata": {
      "byteLimit": 2048000,
      "rowLimit": 10000
     },
     "inputWidgets": {},
     "nuid": "b8262774-94ed-404d-85d2-4a5d970e77a3",
     "showTitle": false,
     "tableResultSettingsMap": {},
     "title": ""
    }
   },
   "outputs": [
    {
     "output_type": "stream",
     "name": "stdout",
     "output_type": "stream",
     "text": [
      "+--------------------------------------------------------------------------------------------------------------------------------------------------+--------+\n|Nature_of_Payment_or_Transfer_of_Value                                                                                                            |count   |\n+--------------------------------------------------------------------------------------------------------------------------------------------------+--------+\n|Food and Beverage                                                                                                                                 |13378464|\n|Travel and Lodging                                                                                                                                |545086  |\n|Compensation for services other than consulting, including serving as faculty or as a speaker at a venue other than a continuing education program|236628  |\n|Consulting Fee                                                                                                                                    |170630  |\n|Education                                                                                                                                         |161078  |\n|Gift                                                                                                                                              |31786   |\n|Honoraria                                                                                                                                         |20232   |\n|Royalty or License                                                                                                                                |15865   |\n|Compensation for serving as faculty or as a speaker for a medical education program                                                               |12234   |\n|Entertainment                                                                                                                                     |7967    |\n+--------------------------------------------------------------------------------------------------------------------------------------------------+--------+\n\n"
     ]
    }
   ],
   "source": [
    "analysis2 = df_1.groupBy(\"Nature_of_Payment_or_Transfer_of_Value\") \\\n",
    "    .agg(count(\"*\").alias(\"count\")) \\\n",
    "    .orderBy(desc(\"count\")) \\\n",
    "    .limit(10)\n",
    "\n",
    "analysis2.show(truncate=False)"
   ]
  },
  {
   "cell_type": "markdown",
   "metadata": {
    "application/vnd.databricks.v1+cell": {
     "cellMetadata": {},
     "inputWidgets": {},
     "nuid": "76c2434c-9e77-45f9-8d3f-cd923478a2a2",
     "showTitle": false,
     "tableResultSettingsMap": {},
     "title": ""
    }
   },
   "source": [
    "The \"Food and Beverage\" category stands as the most frequently recorded payment type across 13.3 million instances while \"Travel and Lodging\" remains distant with 545,086 occurrences which indicates most industry-physician transactions involve modest hospitality payments rather than direct compensation."
   ]
  },
  {
   "cell_type": "code",
   "execution_count": 0,
   "metadata": {
    "application/vnd.databricks.v1+cell": {
     "cellMetadata": {
      "byteLimit": 2048000,
      "rowLimit": 10000
     },
     "inputWidgets": {},
     "nuid": "419bdde8-2122-48a0-a20b-37ad53a5de29",
     "showTitle": false,
     "tableResultSettingsMap": {},
     "title": ""
    }
   },
   "outputs": [
    {
     "output_type": "stream",
     "name": "stdout",
     "output_type": "stream",
     "text": [
      "+--------------------------------------------------------------------------------------------------------------------------------------------------+--------------------+\n|Nature_of_Payment_or_Transfer_of_Value                                                                                                            |total_amount        |\n+--------------------------------------------------------------------------------------------------------------------------------------------------+--------------------+\n|Royalty or License                                                                                                                                |1.19217456302E9     |\n|Compensation for services other than consulting, including serving as faculty or as a speaker at a venue other than a continuing education program|5.946326876500002E8 |\n|Consulting Fee                                                                                                                                    |5.148558758999996E8 |\n|Food and Beverage                                                                                                                                 |3.744878240099897E8 |\n|Travel and Lodging                                                                                                                                |1.7954842378000867E8|\n|Grant                                                                                                                                             |1.1188856182E8      |\n|Acquisitions                                                                                                                                      |7.192577675999999E7 |\n|Education                                                                                                                                         |6.469532594000257E7 |\n|Honoraria                                                                                                                                         |5.585182388999997E7 |\n|Long term medical supply or device loan                                                                                                           |3.009879195E7       |\n+--------------------------------------------------------------------------------------------------------------------------------------------------+--------------------+\n\n"
     ]
    }
   ],
   "source": [
    "analysis3 = df_1.groupBy(\"Nature_of_Payment_or_Transfer_of_Value\") \\\n",
    "    .agg(sum(\"Total_Amount_of_Payment_USDollars\").alias(\"total_amount\")) \\\n",
    "    .orderBy(desc(\"total_amount\")) \\\n",
    "    .limit(10)\n",
    "\n",
    "analysis3.show(truncate=False)"
   ]
  },
  {
   "cell_type": "markdown",
   "metadata": {
    "application/vnd.databricks.v1+cell": {
     "cellMetadata": {},
     "inputWidgets": {},
     "nuid": "f131dc21-4385-4c7e-b59e-e2a7b9934ec6",
     "showTitle": false,
     "tableResultSettingsMap": {},
     "title": ""
    }
   },
   "source": [
    "The payments classified as \"Royalty or License\" reach approximately $1.19 billion while \"Compensation for services other than consulting\" amounts to $594.6 million and \"Consulting Fee\" totals $514.9 million as the most significant industry-physician financial transactions based on their total value."
   ]
  },
  {
   "cell_type": "code",
   "execution_count": 0,
   "metadata": {
    "application/vnd.databricks.v1+cell": {
     "cellMetadata": {
      "byteLimit": 2048000,
      "rowLimit": 10000
     },
     "inputWidgets": {},
     "nuid": "30bbd787-e118-4a1b-8d7a-21737810e219",
     "showTitle": false,
     "tableResultSettingsMap": {},
     "title": ""
    }
   },
   "outputs": [
    {
     "output_type": "stream",
     "name": "stdout",
     "output_type": "stream",
     "text": [
      "+------------------------------------------------------------------------------------------------+-------------------+\n|Covered_Recipient_Profile_Primary_Specialty                                                     |total_amount       |\n+------------------------------------------------------------------------------------------------+-------------------+\n|Allopathic & Osteopathic Physicians|Orthopaedic Surgery                                         |3.777555961599989E8|\n|Allopathic & Osteopathic Physicians|Psychiatry & Neurology|Neurology                            |8.680715036999995E7|\n|Allopathic & Osteopathic Physicians|Neurological Surgery                                        |8.587046902999997E7|\n|Allopathic & Osteopathic Physicians|Dermatology                                                 |8.076589144000061E7|\n|null                                                                                            |7.78133707000005E7 |\n|Allopathic & Osteopathic Physicians|Orthopaedic Surgery|Adult Reconstructive Orthopaedic Surgery|7.277526618000008E7|\n|Allopathic & Osteopathic Physicians|Internal Medicine|Hematology & Oncology                     |6.576093498000081E7|\n|Allopathic & Osteopathic Physicians|Internal Medicine                                           |6.569865264000157E7|\n|Allopathic & Osteopathic Physicians|Psychiatry & Neurology|Psychiatry                           |6.548150061000042E7|\n|Allopathic & Osteopathic Physicians|Internal Medicine|Cardiovascular Disease                    |6.305718157000035E7|\n+------------------------------------------------------------------------------------------------+-------------------+\n\n"
     ]
    }
   ],
   "source": [
    "joined_df = df_1.join(\n",
    "    df_2,\n",
    "    df_1[\"Covered_Recipient_Profile_ID\"] == df_2[\"Covered_Recipient_Profile_ID\"],\n",
    "    \"inner\"\n",
    ")\n",
    "\n",
    "analysis4 = joined_df.groupBy(\"Covered_Recipient_Profile_Primary_Specialty\") \\\n",
    "    .agg(sum(\"Total_Amount_of_Payment_USDollars\").alias(\"total_amount\")) \\\n",
    "    .orderBy(desc(\"total_amount\")) \\\n",
    "    .limit(10)\n",
    "\n",
    "analysis4.show(truncate=False)"
   ]
  },
  {
   "cell_type": "markdown",
   "metadata": {
    "application/vnd.databricks.v1+cell": {
     "cellMetadata": {},
     "inputWidgets": {},
     "nuid": "e7a83796-99eb-4665-8f79-f0b391c5d002",
     "showTitle": false,
     "tableResultSettingsMap": {},
     "title": ""
    }
   },
   "source": [
    "Specialists in Orthopaedic Surgery received the largest total payments ($377.8 million) while Neurology and Neurological Surgery specialists received $86.8 million and $85.9 million respectively which demonstrates industry financial relationships primarily focus on surgical and neurological fields that probably involve medical devices and specialized pharmaceuticals and procedures."
   ]
  },
  {
   "cell_type": "code",
   "execution_count": 0,
   "metadata": {
    "application/vnd.databricks.v1+cell": {
     "cellMetadata": {
      "byteLimit": 2048000,
      "rowLimit": 10000
     },
     "inputWidgets": {},
     "nuid": "58960d45-7a82-42db-97fd-4f1f7b28db44",
     "showTitle": false,
     "tableResultSettingsMap": {},
     "title": ""
    }
   },
   "outputs": [
    {
     "output_type": "stream",
     "name": "stdout",
     "output_type": "stream",
     "text": [
      "+------------------------------------+-----------------------------------+-------------------------------------------+-----------------+\n|Covered_Recipient_Profile_First_Name|Covered_Recipient_Profile_Last_Name|Covered_Recipient_Profile_Primary_Specialty|   total_payments|\n+------------------------------------+-----------------------------------+-------------------------------------------+-----------------+\n|                             STEPHEN|                           BURKHART|                       Allopathic & Oste...|    3.392202493E7|\n|                             WILLIAM|                             BINDER|                       Allopathic & Oste...|    2.943435593E7|\n|                               KEVIN|                              FOLEY|                       Allopathic & Oste...|    1.730653526E7|\n|                                IVAN|                             OSORIO|                       Allopathic & Oste...|    1.606551551E7|\n|                              GEORGE|                            MAXWELL|                       Allopathic & Oste...|    1.160032024E7|\n|                              ROBERT|                              BOOTH|                       Allopathic & Oste...|        8459144.4|\n|                                NEAL|                         ELATTRACHE|                       Allopathic & Oste...|        7810628.2|\n|                               AARON|                          ROSENBERG|                       Allopathic & Oste...|6871466.720000001|\n|                               ROGER|                            JACKSON|                       Allopathic & Oste...|        6660383.8|\n|                               PETER|                            BONUTTI|                       Allopathic & Oste...|6385096.170000001|\n+------------------------------------+-----------------------------------+-------------------------------------------+-----------------+\n\n"
     ]
    }
   ],
   "source": [
    "physician_totals = df_1 \\\n",
    "    .filter(col(\"Covered_Recipient_Type\") == \"Covered Recipient Physician\") \\\n",
    "    .groupBy(\"Covered_Recipient_Profile_ID\") \\\n",
    "    .agg(sum(\"Total_Amount_of_Payment_USDollars\").alias(\"total_payments\"))\n",
    "\n",
    "# Join with the physician profile data to get the names\n",
    "physician_totals_with_names = physician_totals.join(\n",
    "    df_2.select(\n",
    "        \"Covered_Recipient_Profile_ID\", \n",
    "        \"Covered_Recipient_Profile_First_Name\", \n",
    "        \"Covered_Recipient_Profile_Last_Name\",\n",
    "        \"Covered_Recipient_Profile_Primary_Specialty\"\n",
    "    ),\n",
    "    physician_totals[\"Covered_Recipient_Profile_ID\"] == df_2[\"Covered_Recipient_Profile_ID\"],\n",
    "    \"left\"\n",
    ")\n",
    "\n",
    "# Get the top 10 physicians by total payment amount\n",
    "top_10_physicians = physician_totals_with_names \\\n",
    "    .orderBy(desc(\"total_payments\")) \\\n",
    "    .limit(10)\n",
    "\n",
    "# Show the results\n",
    "top_10_physicians.select(\n",
    "    \"Covered_Recipient_Profile_First_Name\",\n",
    "    \"Covered_Recipient_Profile_Last_Name\",\n",
    "    \"Covered_Recipient_Profile_Primary_Specialty\",\n",
    "    \"total_payments\"\n",
    ").show()"
   ]
  },
  {
   "cell_type": "markdown",
   "metadata": {
    "application/vnd.databricks.v1+cell": {
     "cellMetadata": {},
     "inputWidgets": {},
     "nuid": "d41649cf-555a-40fb-949a-05285cfa1a55",
     "showTitle": false,
     "tableResultSettingsMap": {},
     "title": ""
    }
   },
   "source": [
    "The physician who received the highest payment was Dr. Stephen Burkhart with $33.9 million followed by Dr. William Binder with $29.4 million and Dr. Kevin Foley with $17.3 million among the top-ten highest-paid physicians who all specialized in \"Allopathic & Osteopathic Physicians\" and collectively received more than $131 million indicating their involvement with healthcare companies through intellectual property or consulting relationships or other valuable arrangements."
   ]
  }
 ],
 "metadata": {
  "application/vnd.databricks.v1+notebook": {
   "computePreferences": null,
   "dashboards": [],
   "environmentMetadata": {
    "base_environment": "",
    "environment_version": "1"
   },
   "inputWidgetPreferences": null,
   "language": "python",
   "notebookMetadata": {
    "pythonIndentUnit": 4
   },
   "notebookName": "Week 7 Assignment",
   "widgets": {}
  }
 },
 "nbformat": 4,
 "nbformat_minor": 0
}